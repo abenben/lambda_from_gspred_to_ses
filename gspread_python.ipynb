{
 "cells": [
  {
   "cell_type": "code",
   "execution_count": 7,
   "metadata": {},
   "outputs": [
    {
     "name": "stdout",
     "output_type": "stream",
     "text": [
      "シート1\n",
      "0\n",
      "1\n",
      "99\n",
      "100\n"
     ]
    }
   ],
   "source": [
    "import gspread\n",
    "from oauth2client.service_account import ServiceAccountCredentials\n",
    "import config\n",
    "\n",
    "# スプレッドシートキーを指定。スプレッドシートのURLの https://docs.google.com/spreadsheets/d/[スプレッドシートキー]/edit#gid=yyyyy\n",
    "SPREADSHEET_KEY = config.spread_key\n",
    "# 事前準備の手順４でダウンロードしたJSONファイルを指定\n",
    "json_keyfile = config.gcp_keyfile\n",
    "\n",
    "scope = ['https://spreadsheets.google.com/feeds','https://www.googleapis.com/auth/drive']\n",
    "credentials = ServiceAccountCredentials.from_json_keyfile_name(json_keyfile, scope)\n",
    "gc = gspread.authorize(credentials)\n",
    "workbook = gc.open_by_key(SPREADSHEET_KEY)\n",
    "\n",
    "worksheet_list = workbook.worksheets()\n",
    "print(worksheet_list[0].title) #一番最初のワークシートのタイトルを取得する\n",
    "print(worksheet_list[0].id)    #一番最初のワークシートIDを取得する\n",
    "print(len(worksheet_list))     #ワークシートの一覧数を取得\n",
    "\n",
    "# シート1を取得\n",
    "sheet_name = \"シート1\"\n",
    "worksheet = workbook.worksheet(sheet_name)\n",
    "\n",
    "range_str  = \"A1:B1\"\n",
    "cells = worksheet.range(range_str)\n",
    "\n",
    "# A1を参照\n",
    "print(cells[0].value)\n",
    "\n",
    "# A2を参照\n",
    "print(cells[1].value)"
   ]
  },
  {
   "cell_type": "code",
   "execution_count": 5,
   "metadata": {},
   "outputs": [
    {
     "data": {
      "text/plain": [
       "{'spreadsheetId': '1XgR2PDdKC8H31RKOWsjJHjgjKujbK4aQN7YyRCaYttE',\n",
       " 'updatedRange': \"'シート1'!A1:B1\",\n",
       " 'updatedRows': 1,\n",
       " 'updatedColumns': 2,\n",
       " 'updatedCells': 2}"
      ]
     },
     "execution_count": 5,
     "metadata": {},
     "output_type": "execute_result"
    }
   ],
   "source": [
    "worksheet_list = workbook.worksheets()\n",
    "\n",
    "# シート1を取得\n",
    "sheet_name = \"シート1\"\n",
    "worksheet = workbook.worksheet(sheet_name)\n",
    "\n",
    "range_str  = \"A1:B1\"\n",
    "cells = worksheet.range(range_str)\n",
    "\n",
    "# A1セル更新\n",
    "cells[0].value=99\n",
    "\n",
    "# B1セル更新\n",
    "cells[1].value=100\n",
    "\n",
    "# スプレッドシートへ反映（書き込みリクエストが発生）\n",
    "worksheet.update_cells(cells)"
   ]
  },
  {
   "cell_type": "code",
   "execution_count": null,
   "metadata": {},
   "outputs": [],
   "source": []
  }
 ],
 "metadata": {
  "kernelspec": {
   "display_name": "Python 3",
   "language": "python",
   "name": "python3"
  },
  "language_info": {
   "codemirror_mode": {
    "name": "ipython",
    "version": 3
   },
   "file_extension": ".py",
   "mimetype": "text/x-python",
   "name": "python",
   "nbconvert_exporter": "python",
   "pygments_lexer": "ipython3",
   "version": "3.8.5"
  }
 },
 "nbformat": 4,
 "nbformat_minor": 4
}
